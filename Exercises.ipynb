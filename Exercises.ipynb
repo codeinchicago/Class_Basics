{
 "cells": [
  {
   "cell_type": "markdown",
   "metadata": {},
   "source": [
    "#### Exercise 1 - Class Inheritance"
   ]
  },
  {
   "cell_type": "markdown",
   "metadata": {},
   "source": [
    "Create an Employee class that sets an employee's first name, last name, job title, salary, and email. The Employee class should have a class attribute for the raise amount set to 5% (1.05). Create a method that will apply the raise to an employee's salary."
   ]
  },
  {
   "cell_type": "code",
   "execution_count": 20,
   "metadata": {
    "scrolled": true
   },
   "outputs": [
    {
     "data": {
      "text/plain": [
       "\"First's salary is now $105.0.\""
      ]
     },
     "execution_count": 20,
     "metadata": {},
     "output_type": "execute_result"
    }
   ],
   "source": [
    "class Employee:\n",
    "    def __init__(self, firstname, lastname, title, salary, email):\n",
    "        self.firstname = firstname\n",
    "        self.lastname = lastname\n",
    "        self.title = title\n",
    "        self.salary = salary\n",
    "        self.email = email\n",
    "\n",
    "    def paymore(self):\n",
    "        raiseamount = 1.05\n",
    "        self.salary = self.salary * raiseamount\n",
    "        #print(f\"{self.lastname}'s salary is now ${self.salary}.\")\n",
    "        return f\"{self.lastname}'s salary is now ${self.salary}.\"\n",
    "\n",
    "\n",
    "\n",
    "worker1 = Employee(\"Last\", \"First\", \"CEO\", 100, \"me@example.com\")\n",
    "worker1.paymore()\n"
   ]
  },
  {
   "cell_type": "markdown",
   "metadata": {},
   "source": [
    "Create two more classes that inherit from the Employee class. One for Sales and one for Development. Both of these classes will have the same attributes as the Employee.<br>\n",
    "- For the Sales employees, add a phone number attribute on instantiation using the super method. \n",
    "- Create a method on the Sales class that will Send a Follow Up Email. It should take in a customer name and \"send\" aka print a formatted email \"Dear *customer*, Thank you for your interest in our product. Please let me know if you have any questions. My email is *email* or my phone number is *phone number*. Thanks, *full name*\"\n",
    "- Create a method on the Development class called code that will print out \"*full name* is writing code\"."
   ]
  },
  {
   "cell_type": "code",
   "execution_count": 14,
   "metadata": {
    "scrolled": true
   },
   "outputs": [
    {
     "name": "stdout",
     "output_type": "stream",
     "text": [
      "Dear Hemo, \n",
      "Thank you for your interest in our product. Please let me know if you have any questions. My email is selling@anywhere.com and my phone number is 555. \n",
      "Thanks,\n",
      "Bob Seller\n"
     ]
    }
   ],
   "source": [
    "class Sales(Employee):\n",
    "    def __init__(self, firstname, lastname, title, salary, email, phone):\n",
    "        super().__init__(firstname, lastname, title, salary, email)\n",
    "        self.phone = phone\n",
    "\n",
    "    def followup(customer, salesperson):\n",
    "        print(f\"Dear {customer}, \\nThank you for your interest in our product. Please let me know if you have any questions. My email is {salesperson.email} and my phone number is {salesperson.phone}. \\nThanks,\\n{salesperson.firstname} {salesperson.lastname}\")\n",
    "\n",
    "\n",
    "\n",
    "\n",
    "worker3 = Sales(\"Bob\", \"Seller\", \"VP of Sales\", 8,\"selling@anywhere.com\", 555)\n",
    "\n",
    "Sales.followup(\"Hemo\", worker3)\n",
    "\n",
    "class Development(Employee):\n",
    "    def coding(self):\n",
    "        print(f\"{self.firstname} {self.lastname} is writing code.\")\n",
    "\n",
    "# worker2 = Development(\"Hacker\", \"Charlie\", \"Coding Monkey\", 8, \"example@example.com\")\n",
    "# worker2.coding()\n"
   ]
  },
  {
   "cell_type": "markdown",
   "metadata": {},
   "source": [
    "- Create an instance of a Sales Employee with a salary of $50,000.\n",
    "- Send follow up emails to \"Mike O'Neil\" and \"Hannah Stern\"\n",
    "- Give the employee a raise and print the salary"
   ]
  },
  {
   "cell_type": "code",
   "execution_count": 21,
   "metadata": {},
   "outputs": [
    {
     "name": "stdout",
     "output_type": "stream",
     "text": [
      "Dear Mike O'Neil, \n",
      "Thank you for your interest in our product. Please let me know if you have any questions. My email is selling@anywhere.com and my phone number is 555. \n",
      "Thanks,\n",
      "Super Speaker\n",
      "Dear Hannah Stern, \n",
      "Thank you for your interest in our product. Please let me know if you have any questions. My email is selling@anywhere.com and my phone number is 555. \n",
      "Thanks,\n",
      "Super Speaker\n"
     ]
    },
    {
     "data": {
      "text/plain": [
       "\"Speaker's salary is now 52500.0.\""
      ]
     },
     "execution_count": 21,
     "metadata": {},
     "output_type": "execute_result"
    }
   ],
   "source": [
    "worker4 = Sales(\"Super\", \"Speaker\", \"EVP of Sales\", 50000,\"selling@anywhere.com\", 555)\n",
    "Sales.followup(\"Mike O'Neil\", worker4)\n",
    "Sales.followup(\"Hannah Stern\", worker4)\n",
    "worker4.paymore()"
   ]
  },
  {
   "cell_type": "markdown",
   "metadata": {},
   "source": [
    "- Create an instance of a Development Employee with a salary of $100,000\n",
    "- Write some code with this employee\n",
    "- Give the employee a raise and print the salary"
   ]
  },
  {
   "cell_type": "code",
   "execution_count": 23,
   "metadata": {},
   "outputs": [
    {
     "name": "stdout",
     "output_type": "stream",
     "text": [
      "Glasses Thomas is writing code.\n"
     ]
    },
    {
     "data": {
      "text/plain": [
       "\"Thomas's salary is now 105000.0.\""
      ]
     },
     "execution_count": 23,
     "metadata": {},
     "output_type": "execute_result"
    }
   ],
   "source": [
    "worker5 = Development(\"Glasses\", \"Thomas\", \"Software Simian\", 100000, \"example@example.com\")\n",
    "worker5.coding()\n",
    "worker5.paymore()"
   ]
  },
  {
   "cell_type": "markdown",
   "metadata": {},
   "source": [
    "#### Exercise 2 - Importing Modules"
   ]
  },
  {
   "cell_type": "markdown",
   "metadata": {},
   "source": [
    "In VS Code, create a module titled `geometry` and add two functions in there. One that will calculate the area of a circle given a radius. The second will find the hypotenuse of a right angle given the two sides. Import the module or the functions from the module and use it to find the answers to the below questions"
   ]
  },
  {
   "cell_type": "markdown",
   "metadata": {},
   "source": [
    "What is the area of a circle with a radius of 7cm?"
   ]
  },
  {
   "cell_type": "code",
   "execution_count": 9,
   "metadata": {},
   "outputs": [
    {
     "data": {
      "text/plain": [
       "153.93791"
      ]
     },
     "execution_count": 9,
     "metadata": {},
     "output_type": "execute_result"
    }
   ],
   "source": [
    "import geometry\n",
    "\n",
    "geometry.circle_area(7)\n",
    "\n",
    "#The area is 153.9 cm^2"
   ]
  },
  {
   "cell_type": "markdown",
   "metadata": {},
   "source": [
    "What is the hypotenuse of a right angle with sides of 3in and 4in?"
   ]
  },
  {
   "cell_type": "code",
   "execution_count": 12,
   "metadata": {},
   "outputs": [
    {
     "data": {
      "text/plain": [
       "(5+0j)"
      ]
     },
     "execution_count": 12,
     "metadata": {},
     "output_type": "execute_result"
    }
   ],
   "source": [
    "import geometry\n",
    "\n",
    "geometry.hypotenuse(3,4)\n",
    "\n",
    "#5 inches"
   ]
  },
  {
   "cell_type": "code",
   "execution_count": null,
   "metadata": {},
   "outputs": [],
   "source": []
  }
 ],
 "metadata": {
  "kernelspec": {
   "display_name": "Python 3 (ipykernel)",
   "language": "python",
   "name": "python3"
  },
  "language_info": {
   "codemirror_mode": {
    "name": "ipython",
    "version": 3
   },
   "file_extension": ".py",
   "mimetype": "text/x-python",
   "name": "python",
   "nbconvert_exporter": "python",
   "pygments_lexer": "ipython3",
   "version": "3.9.7"
  }
 },
 "nbformat": 4,
 "nbformat_minor": 4
}
